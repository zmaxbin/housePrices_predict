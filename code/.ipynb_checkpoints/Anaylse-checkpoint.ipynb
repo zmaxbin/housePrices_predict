{
 "cells": [
  {
   "cell_type": "code",
   "execution_count": 1,
   "metadata": {
    "collapsed": true
   },
   "outputs": [],
   "source": [
    "import pandas as pd\n",
    "import numpy as np\n",
    "import seaborn as sns\n",
    "import matplotlib\n",
    "\n",
    "import matplotlib.pyplot as plt\n",
    "from scipy.stats import skew\n",
    "from scipy.stats.stats import pearsonr\n",
    "\n",
    "from sklearn.linear_model import Ridge, RidgeCV, ElasticNet, LassoCV, LassoLarsCV\n",
    "from sklearn.model_selection import cross_val_score\n",
    "\n",
    "train_df = pd.read_csv(\"../data/train.csv\")\n",
    "test_df = pd.read_csv('../data/test.csv',index_col = 0)"
   ]
  },
  {
   "cell_type": "code",
   "execution_count": 2,
   "metadata": {},
   "outputs": [
    {
     "name": "stdout",
     "output_type": "stream",
     "text": [
      "              Total   Percent\n",
      "PoolQC         1453  0.995205\n",
      "MiscFeature    1406  0.963014\n",
      "Alley          1369  0.937671\n",
      "Fence          1179  0.807534\n",
      "FireplaceQu     690  0.472603\n",
      "LotFrontage     259  0.177397\n",
      "GarageCond       81  0.055479\n",
      "GarageType       81  0.055479\n",
      "GarageYrBlt      81  0.055479\n",
      "GarageFinish     81  0.055479\n",
      "GarageQual       81  0.055479\n",
      "BsmtExposure     38  0.026027\n",
      "BsmtFinType2     38  0.026027\n",
      "BsmtFinType1     37  0.025342\n",
      "BsmtCond         37  0.025342\n",
      "BsmtQual         37  0.025342\n",
      "MasVnrArea        8  0.005479\n",
      "MasVnrType        8  0.005479\n",
      "Electrical        1  0.000685\n",
      "Utilities         0  0.000000\n",
      "YearRemodAdd      0  0.000000\n",
      "MSSubClass        0  0.000000\n",
      "Foundation        0  0.000000\n",
      "ExterCond         0  0.000000\n",
      "ExterQual         0  0.000000\n",
      "Exterior2nd       0  0.000000\n",
      "Exterior1st       0  0.000000\n",
      "RoofMatl          0  0.000000\n",
      "RoofStyle         0  0.000000\n",
      "YearBuilt         0  0.000000\n"
     ]
    }
   ],
   "source": [
    "# 缺失值分析\n",
    "total = train_df.isnull().sum().sort_values(ascending=False)\n",
    "percent = (train_df.isnull().sum()/train_df.isnull().count()).sort_values(ascending=False)\n",
    "missing_data = pd.concat([total, percent], axis=1, keys=['Total', 'Percent'])\n",
    "print(missing_data.head(30))"
   ]
  },
  {
   "cell_type": "code",
   "execution_count": 3,
   "metadata": {},
   "outputs": [
    {
     "name": "stdout",
     "output_type": "stream",
     "text": [
      "              Total   Percent\n",
      "PoolQC         1456  0.997944\n",
      "MiscFeature    1408  0.965045\n",
      "Alley          1352  0.926662\n",
      "Fence          1169  0.801234\n",
      "FireplaceQu     730  0.500343\n",
      "LotFrontage     227  0.155586\n",
      "GarageCond       78  0.053461\n",
      "GarageFinish     78  0.053461\n",
      "GarageYrBlt      78  0.053461\n",
      "GarageQual       78  0.053461\n",
      "GarageType       76  0.052090\n",
      "BsmtCond         45  0.030843\n",
      "BsmtExposure     44  0.030158\n",
      "BsmtQual         44  0.030158\n",
      "BsmtFinType1     42  0.028787\n",
      "BsmtFinType2     42  0.028787\n",
      "MasVnrType       16  0.010966\n",
      "MasVnrArea       15  0.010281\n",
      "MSZoning          4  0.002742\n",
      "BsmtHalfBath      2  0.001371\n",
      "Utilities         2  0.001371\n",
      "Functional        2  0.001371\n",
      "BsmtFullBath      2  0.001371\n",
      "BsmtFinSF2        1  0.000685\n",
      "BsmtFinSF1        1  0.000685\n",
      "BsmtUnfSF         1  0.000685\n",
      "TotalBsmtSF       1  0.000685\n",
      "Exterior2nd       1  0.000685\n",
      "SaleType          1  0.000685\n",
      "Exterior1st       1  0.000685\n",
      "KitchenQual       1  0.000685\n",
      "GarageArea        1  0.000685\n",
      "GarageCars        1  0.000685\n",
      "OverallQual       0  0.000000\n",
      "Neighborhood      0  0.000000\n",
      "LotArea           0  0.000000\n",
      "Street            0  0.000000\n",
      "LotShape          0  0.000000\n",
      "LandContour       0  0.000000\n",
      "LotConfig         0  0.000000\n"
     ]
    }
   ],
   "source": [
    "total = test_df.isnull().sum().sort_values(ascending=False)\n",
    "percent = (test_df.isnull().sum()/test_df.isnull().count()).sort_values(ascending=False)\n",
    "missing_data = pd.concat([total, percent], axis=1, keys=['Total', 'Percent'])\n",
    "print(missing_data.head(40))"
   ]
  },
  {
   "cell_type": "code",
   "execution_count": 4,
   "metadata": {},
   "outputs": [
    {
     "data": {
      "image/png": "[encoded data removed]",
      "text/plain": [
       "<matplotlib.figure.Figure at 0x25900950828>"
      ]
     },
     "metadata": {},
     "output_type": "display_data"
    }
   ],
   "source": [
    "train_df['FireplaceQu'] = train_df['FireplaceQu'].fillna('Un')\n",
    "size_mapping1 = {\n",
    "    'Ex': 6,\n",
    "    'Gd': 5,\n",
    "    'TA': 4,\n",
    "    'Fa':3,\n",
    "    'Po':2,\n",
    "    'Un':1}\n",
    "train_df['FireplaceQu'] = train_df['FireplaceQu'].map(size_mapping1)\n",
    "# 箱型图\n",
    "sns.boxplot(y='SalePrice',x='FireplaceQu',data=train_df)\n",
    "plt.show()"
   ]
  },
  {
   "cell_type": "code",
   "execution_count": 5,
   "metadata": {},
   "outputs": [
    {
     "data": {
      "image/png": "[encoded data removed]",
      "text/plain": [
       "<matplotlib.figure.Figure at 0x259009866a0>"
      ]
     },
     "metadata": {},
     "output_type": "display_data"
    }
   ],
   "source": [
    "# 散点图\n",
    "var = 'LotFrontage'\n",
    "data = pd.concat([train_df['SalePrice'], train_df[var]], axis=1)\n",
    "data.plot.scatter(x=var, y='SalePrice', ylim=(0,800000))\n",
    "plt.show()"
   ]
  },
  {
   "cell_type": "code",
   "execution_count": 179,
   "metadata": {},
   "outputs": [
    {
     "name": "stdout",
     "output_type": "stream",
     "text": [
      "        Id  MSSubClass MSZoning  LotFrontage  LotArea Street Alley LotShape  \\\n",
      "1298  1299          60       RL        313.0    63887   Pave   NaN      IR3   \n",
      "934    935          20       RL        313.0    27650   Pave   NaN      IR2   \n",
      "\n",
      "     LandContour Utilities    ...     PoolArea PoolQC Fence MiscFeature  \\\n",
      "1298         Bnk    AllPub    ...          480     Gd   NaN         NaN   \n",
      "934          HLS    AllPub    ...            0    NaN   NaN         NaN   \n",
      "\n",
      "     MiscVal MoSold YrSold  SaleType  SaleCondition  SalePrice  \n",
      "1298       0      1   2008       New        Partial     160000  \n",
      "934        0     11   2008        WD         Normal     242000  \n",
      "\n",
      "[2 rows x 81 columns]\n"
     ]
    }
   ],
   "source": [
    "# 输出异常值\n",
    "print(train_df.sort_values(by = 'LotFrontage', ascending = False)[:2])"
   ]
  },
  {
   "cell_type": "code",
   "execution_count": 6,
   "metadata": {
    "collapsed": true
   },
   "outputs": [],
   "source": [
    "# 将异常值用均数替代\n",
    "train_df['LotFrontage'].replace(to_replace=313,value=train_df['LotFrontage'].mean(),inplace=True)\n",
    "train_df['LotFrontage'].replace(to_replace=313,value=train_df['LotFrontage'].mean(),inplace=True)"
   ]
  },
  {
   "cell_type": "code",
   "execution_count": 181,
   "metadata": {},
   "outputs": [
    {
     "data": {
      "image/png": "[encoded data removed]",
      "text/plain": [
       "<matplotlib.figure.Figure at 0x216d16857b8>"
      ]
     },
     "metadata": {},
     "output_type": "display_data"
    }
   ],
   "source": [
    "var = 'LotFrontage'\n",
    "data = pd.concat([train_df['SalePrice'], train_df[var]], axis=1)\n",
    "data.plot.scatter(x=var, y='SalePrice', ylim=(0,800000))\n",
    "plt.show()"
   ]
  },
  {
   "cell_type": "code",
   "execution_count": 7,
   "metadata": {
    "collapsed": true
   },
   "outputs": [],
   "source": [
    "# 去除缺失值太大的项\n",
    "train_df = train_df.drop((missing_data[missing_data['Total'] > 1178]).index,1)\n",
    "test_df = test_df.drop((missing_data[missing_data['Total'] > 1168]).index,1)"
   ]
  },
  {
   "cell_type": "code",
   "execution_count": 183,
   "metadata": {},
   "outputs": [
    {
     "name": "stdout",
     "output_type": "stream",
     "text": [
      "<class 'pandas.core.frame.DataFrame'>\n",
      "RangeIndex: 1460 entries, 0 to 1459\n",
      "Data columns (total 78 columns):\n",
      "Id               1460 non-null int64\n",
      "MSSubClass       1460 non-null int64\n",
      "MSZoning         1460 non-null object\n",
      "LotFrontage      1201 non-null float64\n",
      "LotArea          1460 non-null int64\n",
      "Street           1460 non-null object\n",
      "LotShape         1460 non-null object\n",
      "LandContour      1460 non-null object\n",
      "Utilities        1460 non-null object\n",
      "LotConfig        1460 non-null object\n",
      "LandSlope        1460 non-null object\n",
      "Neighborhood     1460 non-null object\n",
      "Condition1       1460 non-null object\n",
      "Condition2       1460 non-null object\n",
      "BldgType         1460 non-null object\n",
      "HouseStyle       1460 non-null object\n",
      "OverallQual      1460 non-null int64\n",
      "OverallCond      1460 non-null int64\n",
      "YearBuilt        1460 non-null int64\n",
      "YearRemodAdd     1460 non-null int64\n",
      "RoofStyle        1460 non-null object\n",
      "RoofMatl         1460 non-null object\n",
      "Exterior1st      1460 non-null object\n",
      "Exterior2nd      1460 non-null object\n",
      "MasVnrType       1452 non-null object\n",
      "MasVnrArea       1452 non-null float64\n",
      "ExterQual        1460 non-null object\n",
      "ExterCond        1460 non-null object\n",
      "Foundation       1460 non-null object\n",
      "BsmtQual         1423 non-null object\n",
      "BsmtCond         1423 non-null object\n",
      "BsmtExposure     1422 non-null object\n",
      "BsmtFinType1     1423 non-null object\n",
      "BsmtFinSF1       1460 non-null int64\n",
      "BsmtFinType2     1422 non-null object\n",
      "BsmtFinSF2       1460 non-null int64\n",
      "BsmtUnfSF        1460 non-null int64\n",
      "TotalBsmtSF      1460 non-null int64\n",
      "Heating          1460 non-null object\n",
      "HeatingQC        1460 non-null object\n",
      "CentralAir       1460 non-null object\n",
      "Electrical       1459 non-null object\n",
      "1stFlrSF         1460 non-null int64\n",
      "2ndFlrSF         1460 non-null int64\n",
      "LowQualFinSF     1460 non-null int64\n",
      "GrLivArea        1460 non-null int64\n",
      "BsmtFullBath     1460 non-null int64\n",
      "BsmtHalfBath     1460 non-null int64\n",
      "FullBath         1460 non-null int64\n",
      "HalfBath         1460 non-null int64\n",
      "BedroomAbvGr     1460 non-null int64\n",
      "KitchenAbvGr     1460 non-null int64\n",
      "KitchenQual      1460 non-null object\n",
      "TotRmsAbvGrd     1460 non-null int64\n",
      "Functional       1460 non-null object\n",
      "Fireplaces       1460 non-null int64\n",
      "FireplaceQu      1460 non-null int64\n",
      "GarageType       1379 non-null object\n",
      "GarageYrBlt      1379 non-null float64\n",
      "GarageFinish     1379 non-null object\n",
      "GarageCars       1460 non-null int64\n",
      "GarageArea       1460 non-null int64\n",
      "GarageQual       1379 non-null object\n",
      "GarageCond       1379 non-null object\n",
      "PavedDrive       1460 non-null object\n",
      "WoodDeckSF       1460 non-null int64\n",
      "OpenPorchSF      1460 non-null int64\n",
      "EnclosedPorch    1460 non-null int64\n",
      "3SsnPorch        1460 non-null int64\n",
      "ScreenPorch      1460 non-null int64\n",
      "PoolArea         1460 non-null int64\n",
      "Fence            281 non-null object\n",
      "MiscVal          1460 non-null int64\n",
      "MoSold           1460 non-null int64\n",
      "YrSold           1460 non-null int64\n",
      "SaleType         1460 non-null object\n",
      "SaleCondition    1460 non-null object\n",
      "SalePrice        1460 non-null int64\n",
      "dtypes: float64(3), int64(36), object(39)\n",
      "memory usage: 889.8+ KB\n",
      "None\n"
     ]
    }
   ],
   "source": [
    "# 获得哪些是数字哪些非数字\n",
    "print(train_df.info())"
   ]
  },
  {
   "cell_type": "code",
   "execution_count": 165,
   "metadata": {
    "scrolled": false
   },
   "outputs": [
    {
     "name": "stdout",
     "output_type": "stream",
     "text": [
      "                Id   MSSubClass  LotFrontage        LotArea  OverallQual  \\\n",
      "count  1460.000000  1460.000000  1201.000000    1460.000000  1460.000000   \n",
      "mean    730.500000    56.897260    69.645379   10516.828082     6.099315   \n",
      "std     421.610009    42.300571    22.163276    9981.264932     1.382997   \n",
      "min       1.000000    20.000000    21.000000    1300.000000     1.000000   \n",
      "25%     365.750000    20.000000    59.000000    7553.500000     5.000000   \n",
      "50%     730.500000    50.000000    69.000000    9478.500000     6.000000   \n",
      "75%    1095.250000    70.000000    80.000000   11601.500000     7.000000   \n",
      "max    1460.000000   190.000000   182.000000  215245.000000    10.000000   \n",
      "\n",
      "       OverallCond    YearBuilt  YearRemodAdd   MasVnrArea   BsmtFinSF1  \\\n",
      "count  1460.000000  1460.000000   1460.000000  1452.000000  1460.000000   \n",
      "mean      5.575342  1971.267808   1984.865753   103.685262   443.639726   \n",
      "std       1.112799    30.202904     20.645407   181.066207   456.098091   \n",
      "min       1.000000  1872.000000   1950.000000     0.000000     0.000000   \n",
      "25%       5.000000  1954.000000   1967.000000     0.000000     0.000000   \n",
      "50%       5.000000  1973.000000   1994.000000     0.000000   383.500000   \n",
      "75%       6.000000  2000.000000   2004.000000   166.000000   712.250000   \n",
      "max       9.000000  2010.000000   2010.000000  1600.000000  5644.000000   \n",
      "\n",
      "        BsmtFinSF2    BsmtUnfSF  TotalBsmtSF     1stFlrSF     2ndFlrSF  \\\n",
      "count  1460.000000  1460.000000  1460.000000  1460.000000  1460.000000   \n",
      "mean     46.549315   567.240411  1057.429452  1162.626712   346.992466   \n",
      "std     161.319273   441.866955   438.705324   386.587738   436.528436   \n",
      "min       0.000000     0.000000     0.000000   334.000000     0.000000   \n",
      "25%       0.000000   223.000000   795.750000   882.000000     0.000000   \n",
      "50%       0.000000   477.500000   991.500000  1087.000000     0.000000   \n",
      "75%       0.000000   808.000000  1298.250000  1391.250000   728.000000   \n",
      "max    1474.000000  2336.000000  6110.000000  4692.000000  2065.000000   \n",
      "\n",
      "       LowQualFinSF    GrLivArea  BsmtFullBath  BsmtHalfBath     FullBath  \\\n",
      "count   1460.000000  1460.000000   1460.000000   1460.000000  1460.000000   \n",
      "mean       5.844521  1515.463699      0.425342      0.057534     1.565068   \n",
      "std       48.623081   525.480383      0.518911      0.238753     0.550916   \n",
      "min        0.000000   334.000000      0.000000      0.000000     0.000000   \n",
      "25%        0.000000  1129.500000      0.000000      0.000000     1.000000   \n",
      "50%        0.000000  1464.000000      0.000000      0.000000     2.000000   \n",
      "75%        0.000000  1776.750000      1.000000      0.000000     2.000000   \n",
      "max      572.000000  5642.000000      3.000000      2.000000     3.000000   \n",
      "\n",
      "          HalfBath  BedroomAbvGr  KitchenAbvGr  TotRmsAbvGrd   Fireplaces  \\\n",
      "count  1460.000000   1460.000000   1460.000000   1460.000000  1460.000000   \n",
      "mean      0.382877      2.866438      1.046575      6.517808     0.613014   \n",
      "std       0.502885      0.815778      0.220338      1.625393     0.644666   \n",
      "min       0.000000      0.000000      0.000000      2.000000     0.000000   \n",
      "25%       0.000000      2.000000      1.000000      5.000000     0.000000   \n",
      "50%       0.000000      3.000000      1.000000      6.000000     1.000000   \n",
      "75%       1.000000      3.000000      1.000000      7.000000     1.000000   \n",
      "max       2.000000      8.000000      3.000000     14.000000     3.000000   \n",
      "\n",
      "       FireplaceQu  GarageYrBlt   GarageCars   GarageArea   WoodDeckSF  \\\n",
      "count  1460.000000  1379.000000  1460.000000  1460.000000  1460.000000   \n",
      "mean      2.825342  1978.506164     1.767123   472.980137    94.244521   \n",
      "std       1.810877    24.689725     0.747315   213.804841   125.338794   \n",
      "min       1.000000  1900.000000     0.000000     0.000000     0.000000   \n",
      "25%       1.000000  1961.000000     1.000000   334.500000     0.000000   \n",
      "50%       3.000000  1980.000000     2.000000   480.000000     0.000000   \n",
      "75%       5.000000  2002.000000     2.000000   576.000000   168.000000   \n",
      "max       6.000000  2010.000000     4.000000  1418.000000   857.000000   \n",
      "\n",
      "       OpenPorchSF  EnclosedPorch    3SsnPorch  ScreenPorch     PoolArea  \\\n",
      "count  1460.000000    1460.000000  1460.000000  1460.000000  1460.000000   \n",
      "mean     46.660274      21.954110     3.409589    15.060959     2.758904   \n",
      "std      66.256028      61.119149    29.317331    55.757415    40.177307   \n",
      "min       0.000000       0.000000     0.000000     0.000000     0.000000   \n",
      "25%       0.000000       0.000000     0.000000     0.000000     0.000000   \n",
      "50%      25.000000       0.000000     0.000000     0.000000     0.000000   \n",
      "75%      68.000000       0.000000     0.000000     0.000000     0.000000   \n",
      "max     547.000000     552.000000   508.000000   480.000000   738.000000   \n",
      "\n",
      "            MiscVal       MoSold       YrSold      SalePrice  \n",
      "count   1460.000000  1460.000000  1460.000000    1460.000000  \n",
      "mean      43.489041     6.321918  2007.815753  180921.195890  \n",
      "std      496.123024     2.703626     1.328095   79442.502883  \n",
      "min        0.000000     1.000000  2006.000000   34900.000000  \n",
      "25%        0.000000     5.000000  2007.000000  129975.000000  \n",
      "50%        0.000000     6.000000  2008.000000  163000.000000  \n",
      "75%        0.000000     8.000000  2009.000000  214000.000000  \n",
      "max    15500.000000    12.000000  2010.000000  755000.000000  \n"
     ]
    }
   ],
   "source": [
    "# 对数字形式的进行异常值去除，由于列数太多，所以可以用四分位来初步估计\n",
    "with pd.option_context('display.max_rows', 8, 'display.max_columns',39):\n",
    "    print(train_df.describe())\n",
    "    \n",
    "# 从输出可以看出当max值和min值与25%和75%相差很大时，就有可能有异常值，需要画散点图来确认"
   ]
  },
  {
   "cell_type": "code",
   "execution_count": 99,
   "metadata": {},
   "outputs": [
    {
     "data": {
      "image/png": "[encoded data removed]",
      "text/plain": [
       "<matplotlib.figure.Figure at 0x216d14642b0>"
      ]
     },
     "metadata": {},
     "output_type": "display_data"
    }
   ],
   "source": [
    "var = 'MiscVal'\n",
    "data = pd.concat([train_df['SalePrice'], train_df[var]], axis=1)\n",
    "data.plot.scatter(x=var, y='SalePrice', ylim=(0,800000))\n",
    "plt.show()"
   ]
  },
  {
   "cell_type": "code",
   "execution_count": 166,
   "metadata": {},
   "outputs": [
    {
     "name": "stdout",
     "output_type": "stream",
     "text": [
      "      Id  MSSubClass MSZoning  LotFrontage  LotArea Street LotShape  \\\n",
      "197  198          75       RL        174.0    25419   Pave      Reg   \n",
      "747  748          70       RM         65.0    11700   Pave      IR1   \n",
      "\n",
      "    LandContour Utilities LotConfig    ...     3SsnPorch ScreenPorch PoolArea  \\\n",
      "197         Lvl    AllPub    Corner    ...             0           0      512   \n",
      "747         Lvl    AllPub    Corner    ...             0           0        0   \n",
      "\n",
      "     Fence MiscVal MoSold  YrSold  SaleType  SaleCondition  SalePrice  \n",
      "197  GdPrv       0      3    2006        WD        Abnorml     235000  \n",
      "747    NaN       0      5    2009        WD         Normal     265979  \n",
      "\n",
      "[2 rows x 78 columns]\n"
     ]
    }
   ],
   "source": [
    "print(train_df.sort_values(by = 'EnclosedPorch', ascending = False)[:2])"
   ]
  },
  {
   "cell_type": "code",
   "execution_count": 8,
   "metadata": {
    "collapsed": true
   },
   "outputs": [],
   "source": [
    "# 将异常值替换为均值\n",
    "train_df['BsmtFinSF1'].replace(to_replace=5644,value=train_df['BsmtFinSF1'].mean(),inplace=True)\n",
    "train_df['TotalBsmtSF'].replace(to_replace=6110,value=train_df['TotalBsmtSF'].mean(),inplace=True)\n",
    "train_df['1stFlrSF'].replace(to_replace=4692,value=train_df['1stFlrSF'].mean(),inplace=True)\n",
    "train_df['OpenPorchSF'].replace(to_replace=523,value=train_df['OpenPorchSF'].mean(),inplace=True)\n",
    "train_df['EnclosedPorch'].replace(to_replace=552,value=train_df['EnclosedPorch'].mean(),inplace=True)\n",
    "\n",
    "train_df['LotArea'].replace(to_replace=215245,value=train_df['LotArea'].mean(),inplace=True)\n",
    "train_df['LotArea'].replace(to_replace=164660,value=train_df['LotArea'].mean(),inplace=True)\n",
    "train_df['LotArea'].replace(to_replace=159000,value=train_df['LotArea'].mean(),inplace=True)\n",
    "train_df['LotArea'].replace(to_replace=115149,value=train_df['LotArea'].mean(),inplace=True)\n",
    "\n",
    "\n",
    "train_df['GrLivArea'].replace(to_replace=5642,value=train_df['GrLivArea'].mean(),inplace=True)\n",
    "train_df['GrLivArea'].replace(to_replace=4676,value=train_df['GrLivArea'].mean(),inplace=True)\n",
    "train_df = train_df.drop(train_df[train_df['Id'] == 524].index)\n",
    "train_df = train_df.drop(train_df[train_df['Id'] == 309].index)\n",
    "train_df = train_df.drop(train_df[train_df['Id'] == 633].index)\n",
    "train_df = train_df.drop(train_df[train_df['Id'] == 1324].index)"
   ]
  },
  {
   "cell_type": "code",
   "execution_count": 9,
   "metadata": {
    "collapsed": true
   },
   "outputs": [],
   "source": [
    "all_data = pd.concat((train_df.loc[:,'MSSubClass':'SaleCondition'],\n",
    "                      test_df.loc[:,'MSSubClass':'SaleCondition']))"
   ]
  },
  {
   "cell_type": "code",
   "execution_count": 10,
   "metadata": {
    "collapsed": true
   },
   "outputs": [],
   "source": [
    "# 填充缺失值与数字化\n",
    "size_mapping = {\n",
    "    'Ex': 5,\n",
    "    'Gd': 4,\n",
    "    'TA': 3,\n",
    "    'Fa':2,\n",
    "    'Po':1}\n",
    "\n",
    "size_mapping2 = {\n",
    "    'Ex': 6,\n",
    "    'Gd': 5,\n",
    "    'TA': 4,\n",
    "    'Fa':3,\n",
    "    'Po':2,\n",
    "    'NA':1}\n",
    "\n",
    "train_df['ExterQual'] = train_df['ExterQual'].map(size_mapping)\n",
    "train_df['ExterCond'] = train_df['ExterCond'].map(size_mapping)\n",
    "train_df['BsmtQual'] = train_df['BsmtQual'].map(size_mapping2)\n",
    "train_df['BsmtCond'] = train_df['BsmtCond'].map(size_mapping2)\n",
    "train_df['HeatingQC'] = train_df['HeatingQC'].map(size_mapping)\n",
    "train_df['KitchenQual'] = train_df['KitchenQual'].map(size_mapping)\n",
    "train_df['GarageQual'] = train_df['GarageQual'].map(size_mapping2)\n",
    "train_df['GarageCond'] = train_df['GarageCond'].map(size_mapping2)"
   ]
  },
  {
   "cell_type": "code",
   "execution_count": 11,
   "metadata": {
    "collapsed": true
   },
   "outputs": [],
   "source": [
    "# 相关系数矩阵\n",
    "train_df = pd.get_dummies(train_df)\n",
    "\n",
    "#filling NA's with the mean of the column:\n",
    "train_df = train_df.fillna(train_df.mean())\n",
    "# corrmat = train_df.corr()\n",
    "# f, ax = plt.subplots(figsize=(12, 9))\n",
    "# sns.heatmap(corrmat, vmax=.8, square=True)\n",
    "# plt.xticks(rotation=90)\n",
    "# plt.show()\n",
    "# print(train_df.dtypes[train_df.dtypes.map(lambda x: x=='object')])"
   ]
  },
  {
   "cell_type": "code",
   "execution_count": null,
   "metadata": {},
   "outputs": [
    {
     "name": "stderr",
     "output_type": "stream",
     "text": [
      "c:\\users\\maxbin\\appdata\\local\\programs\\python\\python36\\lib\\site-packages\\ipykernel_launcher.py:11: DataConversionWarning: A column-vector y was passed when a 1d array was expected. Please change the shape of y to (n_samples,), for example using ravel().\n",
      "  # This is added back by InteractiveShellApp.init_path()\n"
     ]
    }
   ],
   "source": [
    "# 随机森林判断特征的重要性\n",
    "# from sklearn.model_selection import train_test_split\n",
    "# X = Xtrain_df[['MSSubClass','SaleCondition']]\n",
    "# X = train_df.iloc[:,1:-1]\n",
    "# y = train_df[['SalePrice']]\n",
    "# X_train, X_test, y_train, y_test = train_test_split(X,y,test_size=0.3,random_state=0)\n",
    "# from sklearn.ensemble import RandomForestClassifier\n",
    "# feat_labels= train_df.columns[1:-1]\n",
    "# forest = RandomForestClassifier(n_estimators=10000,\n",
    "#                               random_state=0,\n",
    "#                               n_jobs=-1)\n",
    "# forest.fit(X_train,y_train)\n",
    "# importances = forest.feature_importances_\n",
    "# indices = np.argsort(importances)[::-1]\n",
    "# plt.title('Feature Importance')\n",
    "# plt.bar(range(X_train.shape[1]),\n",
    "#        importances[indices],\n",
    "#        color='lightblue',\n",
    "#        align='center')\n",
    "# plt.sticks(range(X_train.shape[1]),\n",
    "#           feat_labels,rotation=90)\n",
    "# plt.xlim([-1,X_train.shape[1]])\n",
    "# plt.tight_layout()\n",
    "# plt.show()"
   ]
  },
  {
   "cell_type": "code",
   "execution_count": 12,
   "metadata": {
    "collapsed": true
   },
   "outputs": [],
   "source": [
    "#log transform the target:\n",
    "train_df[\"SalePrice\"] = np.log1p(train_df[\"SalePrice\"])"
   ]
  },
  {
   "cell_type": "code",
   "execution_count": 13,
   "metadata": {
    "scrolled": true
   },
   "outputs": [
    {
     "name": "stderr",
     "output_type": "stream",
     "text": [
      "c:\\users\\maxbin\\appdata\\local\\programs\\python\\python36\\lib\\site-packages\\sklearn\\linear_model\\coordinate_descent.py:484: ConvergenceWarning: Objective did not converge. You might want to increase the number of iterations. Fitting data with very small alpha may cause precision problems.\n",
      "  ConvergenceWarning)\n",
      "c:\\users\\maxbin\\appdata\\local\\programs\\python\\python36\\lib\\site-packages\\sklearn\\linear_model\\coordinate_descent.py:484: ConvergenceWarning: Objective did not converge. You might want to increase the number of iterations. Fitting data with very small alpha may cause precision problems.\n",
      "  ConvergenceWarning)\n"
     ]
    },
    {
     "data": {
      "image/png": "[encoded data removed]",
      "text/plain": [
       "<matplotlib.figure.Figure at 0x25900fdc4e0>"
      ]
     },
     "metadata": {},
     "output_type": "display_data"
    }
   ],
   "source": [
    "# 残差图\n",
    "from sklearn.model_selection import train_test_split\n",
    "X = train_df.iloc[:,:-1].values\n",
    "y = train_df['SalePrice'].values\n",
    "X_train, X_test, y_train, y_test = train_test_split(X,y,test_size=0.3,random_state=0)\n",
    "slr = LassoCV(alphas = [1, 0.1, 0.001, 0.0005])\n",
    "slr.fit(X_train,y_train)\n",
    "y_train_pred = slr.predict(X_train)\n",
    "y_test_pred = slr.predict(X_test)\n",
    "plt.scatter(y_train_pred,y_train_pred-y_train,c='blue',marker='o',label='Training data')\n",
    "plt.scatter(y_test_pred,y_test_pred-y_test,c='red',marker='s',label='Test data')\n",
    "plt.xlabel('Predicted values')\n",
    "plt.ylabel('Residuals')\n",
    "plt.legend(loc='upper left')\n",
    "plt.hlines(y=0,xmin=10,xmax=20,lw=1,color='black')\n",
    "plt.xlim([10,20])\n",
    "plt.show()"
   ]
  },
  {
   "cell_type": "code",
   "execution_count": 190,
   "metadata": {},
   "outputs": [
    {
     "name": "stdout",
     "output_type": "stream",
     "text": [
      "[ 0.00476895 -0.00019542 -0.00211542 ...,  0.00466919 -0.00022213\n",
      " -0.00025894]\n",
      "0.0231533260816\n",
      "174\n",
      "11.877575523\n",
      "11.8790747515\n",
      "144001.0\n"
     ]
    }
   ],
   "source": [
    "print(y_train_pred-y_train)\n",
    "print(max(y_train_pred-y_train))\n",
    "print(list(y_train_pred-y_train).index(max(list(y_train_pred-y_train))))\n",
    "print(y_train[656])\n",
    "print(y_train_pred[656])\n",
    "print(np.exp(y_train[656]))"
   ]
  },
  {
   "cell_type": "code",
   "execution_count": 14,
   "metadata": {
    "collapsed": true
   },
   "outputs": [],
   "source": [
    "all_data['ExterQual'] = all_data['ExterQual'].map(size_mapping)\n",
    "all_data['ExterCond'] = all_data['ExterCond'].map(size_mapping)\n",
    "all_data['BsmtQual'] = all_data['BsmtQual'].map(size_mapping2)\n",
    "all_data['BsmtCond'] = all_data['BsmtCond'].map(size_mapping2)\n",
    "all_data['HeatingQC'] = all_data['HeatingQC'].map(size_mapping)\n",
    "all_data['KitchenQual'] = all_data['KitchenQual'].map(size_mapping)\n",
    "all_data['GarageQual'] = all_data['GarageQual'].map(size_mapping2)\n",
    "all_data['GarageCond'] = all_data['GarageCond'].map(size_mapping2)\n",
    "all_data['FireplaceQu'] = all_data['FireplaceQu'].map(size_mapping1)\n",
    "\n",
    "all_data = pd.get_dummies(all_data)\n",
    "\n",
    "#filling NA's with the mean of the column:\n",
    "all_data = all_data.fillna(all_data.mean())"
   ]
  },
  {
   "cell_type": "code",
   "execution_count": 15,
   "metadata": {
    "collapsed": true
   },
   "outputs": [],
   "source": [
    "X_train = all_data[:train_df.shape[0]]\n",
    "X_test = all_data[train_df.shape[0]:]\n",
    "y = train_df.SalePrice"
   ]
  },
  {
   "cell_type": "code",
   "execution_count": 78,
   "metadata": {},
   "outputs": [
    {
     "data": {
      "image/png": "[encoded data removed]",
      "text/plain": [
       "<matplotlib.figure.Figure at 0x216d142c630>"
      ]
     },
     "metadata": {},
     "output_type": "display_data"
    }
   ],
   "source": [
    "# 验证曲线寻找最佳参数\n",
    "from sklearn.model_selection import validation_curve\n",
    "from sklearn.pipeline import Pipeline\n",
    "from sklearn.linear_model import Lasso\n",
    "from sklearn.kernel_ridge import KernelRidge\n",
    "\n",
    "pipe_lr = Pipeline([\n",
    "                    ('clf', KernelRidge())])\n",
    "\n",
    "param_range = [0.1,1,10,100,1000,10000]\n",
    "train_scores, test_scores = validation_curve(\n",
    "                estimator=pipe_lr,\n",
    "                X=X_train,\n",
    "                y=y,\n",
    "                param_name='clf__alpha',\n",
    "                param_range=param_range,\n",
    "                cv=10)\n",
    "\n",
    "train_mean = np.mean(train_scores, axis=1)\n",
    "train_std = np.std(train_scores, axis=1)\n",
    "test_mean = np.mean(test_scores, axis=1)\n",
    "test_std = np.std(test_scores, axis=1)\n",
    "\n",
    "plt.plot(param_range, train_mean,\n",
    "         color='blue', marker='o',\n",
    "         markersize=5, label='training accuracy')\n",
    "\n",
    "plt.fill_between(param_range, train_mean + train_std,\n",
    "                 train_mean - train_std, alpha=0.15,\n",
    "                 color='blue')\n",
    "\n",
    "plt.plot(param_range, test_mean,\n",
    "         color='green', linestyle='--',\n",
    "         marker='s', markersize=5,\n",
    "         label='validation accuracy')\n",
    "\n",
    "plt.fill_between(param_range,\n",
    "                 test_mean + test_std,\n",
    "                 test_mean - test_std,\n",
    "                 alpha=0.15, color='green')\n",
    "\n",
    "plt.grid()\n",
    "plt.xscale('log')\n",
    "plt.legend(loc='lower right')\n",
    "plt.xlabel('Parameter alpha')\n",
    "plt.ylabel('Accuracy')\n",
    "plt.ylim([0.8, 1.0])\n",
    "plt.tight_layout()\n",
    "# plt.savefig('./figures/validation_curve.png', dpi=300)\n",
    "plt.show()"
   ]
  },
  {
   "cell_type": "code",
   "execution_count": 193,
   "metadata": {},
   "outputs": [
    {
     "name": "stderr",
     "output_type": "stream",
     "text": [
      "c:\\users\\maxbin\\appdata\\local\\programs\\python\\python36\\lib\\site-packages\\sklearn\\linear_model\\coordinate_descent.py:484: ConvergenceWarning: Objective did not converge. You might want to increase the number of iterations. Fitting data with very small alpha may cause precision problems.\n",
      "  ConvergenceWarning)\n",
      "c:\\users\\maxbin\\appdata\\local\\programs\\python\\python36\\lib\\site-packages\\sklearn\\linear_model\\coordinate_descent.py:484: ConvergenceWarning: Objective did not converge. You might want to increase the number of iterations. Fitting data with very small alpha may cause precision problems.\n",
      "  ConvergenceWarning)\n"
     ]
    }
   ],
   "source": [
    "model_lassoCV = LassoCV(alphas = [1, 0.1, 0.001, 0.0005]).fit(X_train, y)\n",
    "y_pred_lassoCV = model_lassoCV.predict(X_test)\n",
    "\n",
    "from sklearn.linear_model import Lasso\n",
    "model_lasso = Lasso(alpha=0.001,random_state=0).fit(X_train,y)\n",
    "y_pred_lasso = model_lasso.predict(X_test)\n",
    "\n",
    "from sklearn.kernel_ridge import KernelRidge\n",
    "model_ridge = KernelRidge(alpha=10).fit(X_train,y)\n",
    "y_pred_ridge = model_ridge.predict(X_test)"
   ]
  },
  {
   "cell_type": "code",
   "execution_count": 194,
   "metadata": {
    "collapsed": true
   },
   "outputs": [],
   "source": [
    "import xgboost as xgb\n",
    "\n",
    "regr = xgb.XGBRegressor(\n",
    "    colsample_bytree=0.2,\n",
    "    gamma=0.0,\n",
    "    learning_rate=0.01,\n",
    "    max_depth=4,\n",
    "    min_child_weight=1.5,\n",
    "    n_estimators=7200,\n",
    "    reg_alpha=0.9,\n",
    "    reg_lambda=0.6,\n",
    "    subsample=0.2,\n",
    "    seed=42,\n",
    "    silent=1)\n",
    "\n",
    "regr.fit(X_train, y)\n",
    "\n",
    "\n",
    "# Run prediction on the Kaggle test set.\n",
    "y_pred_xgb = regr.predict(X_test)"
   ]
  },
  {
   "cell_type": "code",
   "execution_count": 195,
   "metadata": {
    "collapsed": true
   },
   "outputs": [],
   "source": [
    "y_final = np.exp((y_pred_xgb+y_pred_lassoCV+y_pred_lasso+y_pred_ridge)/4)\n",
    "\n",
    "submission_df = pd.DataFrame(data = {'Id':test_df.index,'SalePrice':y_final})\n",
    "submission_df.to_csv('../data/submission9.csv',columns = ['Id','SalePrice'],index = False)"
   ]
  },
  {
   "cell_type": "code",
   "execution_count": 84,
   "metadata": {
    "collapsed": true
   },
   "outputs": [],
   "source": [
    "# 线性PCA 降维 基本是废的\n",
    "from sklearn.decomposition import PCA\n",
    "pca = PCA(n_components=50)\n",
    "X_train_pca = pca.fit_transform(X_train)\n",
    "X_test_pca = pca.fit_transform(X_test)\n",
    "\n",
    "model_lassoCV = LassoCV(alphas = [1, 0.1, 0.001, 0.0005]).fit(X_train_pca, y)\n",
    "y_pred_lassoCV = model_lassoCV.predict(X_test_pca)\n",
    "\n",
    "from sklearn.linear_model import Lasso\n",
    "model_lasso = Lasso(alpha=0.001,random_state=0).fit(X_train_pca,y)\n",
    "y_pred_lasso = model_lasso.predict(X_test_pca)\n",
    "\n",
    "from sklearn.kernel_ridge import KernelRidge\n",
    "model_ridge = KernelRidge(alpha=10).fit(X_train_pca,y)\n",
    "y_pred_ridge = model_ridge.predict(X_test_pca)\n",
    "import xgboost as xgb\n",
    "\n",
    "regr = xgb.XGBRegressor(\n",
    "    colsample_bytree=0.2,\n",
    "    gamma=0.0,\n",
    "    learning_rate=0.01,\n",
    "    max_depth=4,\n",
    "    min_child_weight=1.5,\n",
    "    n_estimators=7200,\n",
    "    reg_alpha=0.9,\n",
    "    reg_lambda=0.6,\n",
    "    subsample=0.2,\n",
    "    seed=42,\n",
    "    silent=1)\n",
    "\n",
    "regr.fit(X_train_pca, y)\n",
    "\n",
    "\n",
    "# Run prediction on the Kaggle test set.\n",
    "y_pred_xgb = regr.predict(X_test_pca)\n",
    "y_final = np.exp((y_pred_xgb+y_pred_lassoCV+y_pred_lasso+y_pred_ridge)/4)\n",
    "\n",
    "submission_df = pd.DataFrame(data = {'Id':test_df.index,'SalePrice':y_final})\n",
    "submission_df.to_csv('../data/submission10.csv',columns = ['Id','SalePrice'],index = False)"
   ]
  },
  {
   "cell_type": "code",
   "execution_count": 16,
   "metadata": {},
   "outputs": [
    {
     "name": "stderr",
     "output_type": "stream",
     "text": [
      "c:\\users\\maxbin\\appdata\\local\\programs\\python\\python36\\lib\\site-packages\\sklearn\\cross_validation.py:44: DeprecationWarning: This module was deprecated in version 0.18 in favor of the model_selection module into which all the refactored classes and functions are moved. Also note that the interface of the new CV iterators are different from that of this module. This module will be removed in 0.20.\n",
      "  \"This module will be removed in 0.20.\", DeprecationWarning)\n"
     ]
    }
   ],
   "source": [
    "# 非线性PCA降维 更废\n",
    "from sklearn.decomposition import KernelPCA\n",
    "pca = KernelPCA(kernel='rbf',n_components=35)\n",
    "X_train_pca = pca.fit_transform(X_train)\n",
    "X_test_pca = pca.fit_transform(X_test)\n",
    "\n",
    "model_lassoCV = LassoCV(alphas = [1, 0.1, 0.001, 0.0005]).fit(X_train_pca, y)\n",
    "y_pred_lassoCV = model_lassoCV.predict(X_test_pca)\n",
    "\n",
    "from sklearn.linear_model import Lasso\n",
    "model_lasso = Lasso(alpha=0.001,random_state=0).fit(X_train_pca,y)\n",
    "y_pred_lasso = model_lasso.predict(X_test_pca)\n",
    "\n",
    "from sklearn.kernel_ridge import KernelRidge\n",
    "model_ridge = KernelRidge(alpha=10).fit(X_train_pca,y)\n",
    "y_pred_ridge = model_ridge.predict(X_test_pca)\n",
    "import xgboost as xgb\n",
    "\n",
    "regr = xgb.XGBRegressor(\n",
    "    colsample_bytree=0.2,\n",
    "    gamma=0.0,\n",
    "    learning_rate=0.01,\n",
    "    max_depth=4,\n",
    "    min_child_weight=1.5,\n",
    "    n_estimators=7200,\n",
    "    reg_alpha=0.9,\n",
    "    reg_lambda=0.6,\n",
    "    subsample=0.2,\n",
    "    seed=42,\n",
    "    silent=1)\n",
    "\n",
    "regr.fit(X_train_pca, y)\n",
    "\n",
    "\n",
    "# Run prediction on the Kaggle test set.\n",
    "y_pred_xgb = regr.predict(X_test_pca)\n",
    "y_final = np.exp((y_pred_xgb+y_pred_lassoCV+y_pred_lasso+y_pred_ridge)/4)\n",
    "\n",
    "submission_df = pd.DataFrame(data = {'Id':test_df.index,'SalePrice':y_final})\n",
    "submission_df.to_csv('../data/submission10.csv',columns = ['Id','SalePrice'],index = False)"
   ]
  },
  {
   "cell_type": "code",
   "execution_count": null,
   "metadata": {
    "collapsed": true
   },
   "outputs": [],
   "source": []
  }
 ],
 "metadata": {
  "kernelspec": {
   "display_name": "Python 3",
   "language": "python",
   "name": "python3"
  },
  "language_info": {
   "codemirror_mode": {
    "name": "ipython",
    "version": 3
   },
   "file_extension": ".py",
   "mimetype": "text/x-python",
   "name": "python",
   "nbconvert_exporter": "python",
   "pygments_lexer": "ipython3",
   "version": "3.6.1"
  }
 },
 "nbformat": 4,
 "nbformat_minor": 2
}
